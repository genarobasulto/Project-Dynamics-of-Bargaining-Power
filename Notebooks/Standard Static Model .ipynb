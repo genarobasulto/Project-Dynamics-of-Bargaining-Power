{
 "cells": [
  {
   "cell_type": "markdown",
   "metadata": {},
   "source": [
    "# Project: Dynamics of Bargaining Pwer\n",
    "# Standard Static Model (JuMP)\n",
    "#### Genaro, Itza, & Sonia\n",
    "#### May 2021 \n",
    "\n",
    "This code was made specifically to solve the principal-agent problem in a static single objective model. \n",
    "\n",
    "This aplication uses the JuMP library and the Ipopt solver to solve the optimization problrem given a value for the bargaining power.\n",
    "\n",
    "The use uf this library allows us to easily change the parametrization of the problem and rely on a robust solver to find solutions in multi-criteria non-linear restricted optimization problems. "
   ]
  },
  {
   "cell_type": "markdown",
   "metadata": {},
   "source": [
    "#### Static Model (JuMP)"
   ]
  },
  {
   "cell_type": "markdown",
   "metadata": {},
   "source": [
    "#### Set up  (JuMP)"
   ]
  },
  {
   "cell_type": "code",
   "execution_count": 9,
   "metadata": {
    "collapsed": false
   },
   "outputs": [],
   "source": [
    "# download optimization libraries\n",
    "#import Pkg; Pkg.add(\"JuMP\")\n",
    "#import Pkg; Pkg.add(\"Ipopt\")\n",
    "#import Pkg; Pkg.add(\"DataFrames\")\n",
    "#import Pkg; Pkg.add(\"ExcelFiles\")"
   ]
  },
  {
   "cell_type": "markdown",
   "metadata": {},
   "source": [
    "#### Libraries"
   ]
  },
  {
   "cell_type": "code",
   "execution_count": 10,
   "metadata": {
    "collapsed": true
   },
   "outputs": [],
   "source": [
    "using JuMP, Ipopt # Loading optimization libraries.\n",
    "                  # Ipopt solve a nonlinear optimization problem.\n",
    "using DataFrames  # Loading frame libraries.\n",
    "using ExcelFiles  # Loading excel files libraries."
   ]
  },
  {
   "cell_type": "markdown",
   "metadata": {},
   "source": [
    "#### Utility Functions"
   ]
  },
  {
   "cell_type": "code",
   "execution_count": 11,
   "metadata": {
    "collapsed": false
   },
   "outputs": [
    {
     "data": {
      "text/plain": [
       "u (generic function with 1 method)"
      ]
     },
     "execution_count": 11,
     "metadata": {},
     "output_type": "execute_result"
    }
   ],
   "source": [
    "#v(c,a,g=1,alpha=1)=-exp(g*(a-alpha*c))     # Declaration of v (agent utility function); \n",
    "                                            # g is the coefficient of risk aversion\n",
    "                                            # alpha is a cost coefficient.\n",
    "\n",
    "v(w, a, h=0.5) =  ((w)^(1-h))/(1-h) - a^2    # Declaration of v (agent utility function); \n",
    "                                                # h is a cost coefficient.\n",
    "\n",
    "u(y, w) = y - w     # Declaration of u (Principal utility function)."
   ]
  },
  {
   "cell_type": "markdown",
   "metadata": {},
   "source": [
    "#### Variables and lists  (JuMP)"
   ]
  },
  {
   "cell_type": "code",
   "execution_count": 21,
   "metadata": {
    "collapsed": false
   },
   "outputs": [
    {
     "data": {
      "text/plain": [
       "Any[]"
      ]
     },
     "execution_count": 21,
     "metadata": {},
     "output_type": "execute_result"
    }
   ],
   "source": [
    "A = [0.1 0.2]    # Actions set [al ah]\n",
    "Y = [0.4 0.8]    # Outcomes set [yl yh]\n",
    "f = [2/3 1/3; 1/3 2/3]    # Probability matrix  [yh|ah yl|ah; yh|al yl|al]\n",
    "beta = 0.99   # Future discount factor\n",
    "N = 100    # Number of intervals for the state variable\n",
    "K= 1:100 \n",
    "vl = v(0,A[2]) # State variable's lower limit \n",
    "vh = (1/3)*v(Y[1],A[1])+(2/3)*v(Y[2],A[1]) # State variable's upper limit\n",
    "V = LinRange(vl, vh, N) # State variable's vector \n",
    "UF = [] # List of final values of the principal utility\n",
    "AcOpt = [] # List of optimal actions for K\n",
    "WHOpt = [] # List of hight optimal compensation for K\n",
    "WLOpt = [] # List of low optimal compensation for K"
   ]
  },
  {
   "cell_type": "markdown",
   "metadata": {},
   "source": [
    "#### High Effort Model Specitication "
   ]
  },
  {
   "cell_type": "code",
   "execution_count": 13,
   "metadata": {
    "collapsed": false
   },
   "outputs": [
    {
     "data": {
      "text/plain": [
       "Model_High_Effort (generic function with 1 method)"
      ]
     },
     "execution_count": 13,
     "metadata": {},
     "output_type": "execute_result"
    }
   ],
   "source": [
    "function Model_High_Effort(k, h)\n",
    "    # A optimization model is created to incentive ah.\n",
    "    model_high_effort = Model(\n",
    "        with_optimizer(\n",
    "            Ipopt.Optimizer, \n",
    "            tol = 1e-7, \n",
    "            max_iter = 1000, \n",
    "            print_level=1)) \n",
    "    \n",
    "    # Declare the decision variables for the model: xl = wl, xh = wh.\n",
    "    @variable(model_high_effort, xl >= 0.00001)  # xl = wl, low compensation.\n",
    "    @variable(model_high_effort, xh >= 0.00001)  # xh = wh, hight compensation.\n",
    "    \n",
    "    # Declare the agent's utility function within the model.\n",
    "    register(model_high_effort, :v, 2, v, autodiff=true)    # m, the model name\n",
    "                                            # :v,  **********                                          \n",
    "                                            # 2, number of variables\n",
    "                                            # v, declare the agent's utility function \n",
    "                                            # autodiff,    **********\n",
    "    register(model_high_effort, :u, 2, u, autodiff=true)  \n",
    "    \n",
    "    # Non-linear type expressions are declared, the expected utility of the agent, within the model. \n",
    "    EV_H = @NLexpression(model_high_effort, f[1,1]*v(xh,A[2])+f[1,2]*v(xl,A[2]))    # E(v|ah)\n",
    "    EV_L = @NLexpression(model_high_effort, f[2,1]*v(xh,A[1])+f[2,2]*v(xl,A[1]))    # E(v|al)\n",
    "    EU_H = @NLexpression(model_high_effort, f[1,1]*u(Y[2],xh) + f[1,2]*u(Y[1],xl))    # E(u|ah)\n",
    "    \n",
    "    # Objective function; expected utility of the principal given ah.\n",
    "    @NLobjective(model_high_effort, Max,  EU_H) \n",
    "    \n",
    "    @constraint(model_high_effort, xh<=Y[2])  # Financial capacity restriction for high compensation; wh<=yh.\n",
    "    @constraint(model_high_effort, xl<=Y[1])  # Financial capacity restriction for low compensation; wl<=yl.\n",
    "    \n",
    "    @NLconstraint(model_high_effort, EV_H >= EV_L) # Incentive constraint to incentivize ah.\n",
    "    @NLconstraint(model_high_effort, EV_H == V[k]) # Participation constraint to incentivize ah.\n",
    "    \n",
    "    # The problem posed for incentive ah is solved.\n",
    "    JuMP.optimize!(model_high_effort) \n",
    "    \n",
    "    # The optimal value of the function is saved given ah.\n",
    "    uh = getobjectivevalue(model_high_effort)/(1-beta) \n",
    "    wh = value(xh)\n",
    "    wl = value(xl)\n",
    "    return uh, wh, wl, termination_status(model_high_effort)\n",
    "end"
   ]
  },
  {
   "cell_type": "markdown",
   "metadata": {},
   "source": [
    "#### High Effort Model Specitication "
   ]
  },
  {
   "cell_type": "code",
   "execution_count": 14,
   "metadata": {
    "collapsed": false
   },
   "outputs": [
    {
     "data": {
      "text/plain": [
       "Model_Low_Effort (generic function with 1 method)"
      ]
     },
     "execution_count": 14,
     "metadata": {},
     "output_type": "execute_result"
    }
   ],
   "source": [
    "function Model_Low_Effort(k, h)\n",
    "    # A optimization model is created to incentive al.\n",
    "    model_low_effort = Model(\n",
    "        with_optimizer(\n",
    "            Ipopt.Optimizer, \n",
    "            tol = 1e-7, \n",
    "            max_iter = 1000,\n",
    "            print_level=1))\n",
    "    \n",
    "    # Declare the decision variables for the model: xl = wl, xh = wh.\n",
    "    @variable(model_low_effort, xl >= 0.00001)  # xl = wl, low compensation.\n",
    "    @variable(model_low_effort, xh >= 0.00001)  # xh = wh, hight compensation.\n",
    "    \n",
    "    # Declare the agent's utility function within the model.\n",
    "    register(model_low_effort, :v, 2, v, autodiff=true)    # model_low_effort, the model name\n",
    "                                            # :v,  **********                                          \n",
    "                                            # 2, number of variables\n",
    "                                            # v, declare the agent's utility function \n",
    "                                            # autodiff,    **********\n",
    "    register(model_low_effort, :u, 2, u, autodiff=true) # model_low_effort, the model name\n",
    "                                            # :u,  **********                                          \n",
    "                                            # 2, number of variables\n",
    "                                            # u, declare the principal's utility function \n",
    "                                            # autodiff,    **********\n",
    "    \n",
    "    # Non-linear type expressions are declared, the expected utility of the agent, within the model. \n",
    "    EV_H = @NLexpression(model_low_effort, f[1,1]*v(xh,A[2]) + f[1,2]*v(xl,A[2])) #E(v|ah)\n",
    "    EV_L = @NLexpression(model_low_effort, f[2,1]*v(xh,A[1]) + f[2,2]*v(xl,A[1])) #E(v|al)\n",
    "    EU_L = @NLexpression(model_low_effort,f[2,1]*u(Y[2],xh) + f[2,2]*u(Y[1],xl)) # E(u|al))\n",
    "    \n",
    "    # Objective function; expected utility of the principal given al.\n",
    "    @NLobjective(model_low_effort, Max, EU_L) \n",
    "    \n",
    "    @constraint(model_low_effort, xh <= Y[2]) # Financial capacity restriction for high compensation; wh<=yh.\n",
    "    @constraint(model_low_effort, xl <= Y[1]) # Financial capacity restriction for low compensation; wl<=yl.\n",
    "    \n",
    "    @NLconstraint(model_low_effort, EV_H <= EV_L)  # Incentive constraint to incentivize al.\n",
    "    @NLconstraint(model_low_effort, EV_L == V[k])  # Participation constraint to incentivize al.\n",
    "    \n",
    "    # The problem posed for incentive al is solved.\n",
    "    JuMP.optimize!(model_low_effort)\n",
    "    \n",
    "    # The optimal value of the function is saved given al.\n",
    "    ul = getobjectivevalue(model_low_effort)/(1-beta) \n",
    "    wh = value(xh)\n",
    "    wl = value(xl)\n",
    "    return ul, wh, wl, termination_status(model_low_effort)\n",
    "end"
   ]
  },
  {
   "cell_type": "markdown",
   "metadata": {},
   "source": [
    "##### Routine (JuMP)"
   ]
  },
  {
   "cell_type": "code",
   "execution_count": 22,
   "metadata": {
    "collapsed": false,
    "scrolled": true
   },
   "outputs": [
    {
     "name": "stdout",
     "output_type": "stream",
     "text": [
      "K=5   66.51133446944618   1.0344616706686677e-5    0.0023248106499530827    0.2\n",
      "K=6   66.44927251228852   0.00013271846585991422    0.003194553082741141    0.2\n",
      "K=7   66.3734191698887   0.0003930086912497889    0.004202208106043682    0.2\n",
      "K=8   66.2837742537073   0.0007912140026009709    0.005347779193089095    0.2\n",
      "K=9   66.18033779157705   0.0013273343628742516    0.006631265944906199    0.2\n",
      "K=10   66.0631098013092   0.0020013700002943177    0.008052667980214027    0.2\n",
      "K=11   65.93209021039749   0.002813318368458477    0.009611987659807511    0.2\n",
      "K=12   65.78727923546836   0.003763187140345972    0.01130921789780073    0.2\n",
      "K=13   65.62867637657217   0.004850954979375004    0.013144376861728894    0.2\n",
      "K=14   65.45628255666347   0.006076665407002572    0.015117428946545898    0.2\n",
      "K=15   65.27009692482503   0.007440277464471182    0.01722840739538816    0.2\n",
      "K=16   65.07011976470561   0.008941804804669298    0.01947730112708034    0.2\n",
      "K=17   64.85635103910414   0.010581244875664942    0.021864111975604405    0.2\n",
      "K=18   64.62879085962057   0.012358605333429298    0.024388834438976124    0.2\n",
      "K=19   64.3874391146435   0.01427387852229035    0.027051474019201646    0.2\n",
      "K=20   64.13229584142678   0.01632706699288959    0.029852028882152545    0.2\n",
      "K=21   63.86336104024854   0.018518170738860584    0.03279049902684062    0.2\n",
      "K=22   63.58063471222186   0.020847189733200547    0.03586688445007102    0.2\n",
      "K=23   63.2841168233785   0.023314121089217606    0.039081187104712964    0.2\n",
      "K=24   62.97380742314373   0.02591896864365572    0.042433404331015244    0.2\n",
      "K=25   62.64970649715356   0.028661730203439248    0.04592353744097625    0.2\n",
      "K=26   62.31181410788642   0.03154241876289397    0.04955157900025593    0.2\n",
      "K=27   61.960130136643976   0.034561014214294764    0.05331754084319213    0.2\n",
      "K=28   61.5946546371303   0.037717524948237185    0.05722141796892607    0.2\n",
      "K=29   61.21538760942641   0.04101195096287765    0.061263210377164166    0.2\n",
      "K=30   60.8223290550817   0.044444292216653775    0.06544291806544678    0.2\n",
      "K=31   60.41547890687818   0.04801453877471206    0.06976054700947067    0.2\n",
      "K=32   59.9948372393508   0.05172269733237107    0.07421609274355163    0.2\n",
      "K=33   59.5604041924725   0.05556880428911456    0.0788095349683545    0.2\n",
      "K=34   59.11217954611904   0.05955281028982407    0.08354090166330164    0.2\n",
      "K=35   58.650163348476994   0.0636747280074643    0.08841018576911205    0.2\n",
      "K=36   58.17435562266016   0.06793456100515562    0.093417385157519    0.2\n",
      "K=37   57.68475636902189   0.07233230927494484    0.09856249982719847    0.2\n",
      "K=38   57.181365586597046   0.07686797283887063    0.10384552978160821    0.2\n",
      "K=39   56.6641808628668   0.08154108975877168    0.10926674217761144    0.2\n",
      "K=40   56.133206372453365   0.08635244257297839    0.11482568312670963    0.2\n",
      "K=41   55.588443968895426   0.09130243434354622    0.12052212329479482    0.2\n",
      "K=42   55.02988706275738   0.09638975606775055    0.12635681602476326    0.2\n",
      "K=43   54.45753875011878   0.1016150198995368    0.13232940879844926    0.2\n",
      "K=44   53.87139879790908   0.10697817508384855    0.1384399304894387    0.2\n",
      "K=45   53.271467317549835   0.11247924557616101    0.14468836744867122    0.2\n",
      "K=46   52.6577443086992   0.11811823137026829    0.15107471968437713    0.2\n",
      "K=47   52.03022977196556   0.12389513252007765    0.15759898716047718    0.2\n",
      "K=48   51.38892370622822   0.12980994864926404    0.16426117008194413    0.2\n",
      "K=49   50.733826112613286   0.13586268014368666    0.1710612682389567    0.2\n",
      "K=50   50.06493647701723   0.14205319781071896    0.17799935393938143    0.2\n",
      "K=51   49.382256050078084   0.14838181228685338    0.18507525310540135    0.2\n",
      "K=52   48.68578347685069   0.15484818461859057    0.19228915553794373    0.2\n",
      "K=53   47.97552046114283   0.16145276011771814    0.19964081302399797    0.2\n",
      "K=54   47.25146522815688   0.168195068160252    0.20713048749752017    0.2\n",
      "K=55   46.51361848042815   0.1750752910010497    0.2147580772930523    0.2\n",
      "K=56   45.76198016740844   0.18209343033174363    0.22252358232300107    0.2\n",
      "K=57   44.99655012756153   0.18924936840576084    0.23042706388369616    0.2\n",
      "K=58   44.21732900737459   0.1965434533118762    0.23846833823344254    0.2\n",
      "K=59   43.424315939336275   0.20397524182917517    0.24664763999536773    0.2\n",
      "K=60   42.61751171819666   0.21154513778589312    0.25496475533410307    0.2\n",
      "K=61   41.796915626628234   0.2192527493937522    0.2634198909036997    0.2\n",
      "K=62   40.96252832443488   0.2270984831964259    0.27201283353526334    0.2\n",
      "K=63   40.114349334980275   0.2350820288298429    0.28074374556037396    0.2\n",
      "K=64   39.252378817264805   0.2432034897455741    0.28961257286824027    0.2\n",
      "K=65   38.37661677288236   0.25146286590342354    0.2986193154550524    0.2\n",
      "K=66   37.48706320054748   0.25986015733725554    0.30776397332315947    0.2\n",
      "K=67   36.583718093922265   0.2683953642014321    0.3170465464904495    0.2\n",
      "K=68   35.666581466797155   0.27706848616595403    0.3264670349150652    0.2\n",
      "K=69   34.73565330750111   0.28587952349881146    0.3360254386380772    0.2\n",
      "K=70   33.7909336206767   0.2948284760965659    0.34572175764156615    0.2\n",
      "K=71   32.832422401470254   0.3039153440690107    0.3555559919434404    0.2\n",
      "K=72   31.860119733042918   0.31314012555375875    0.36552814122747646    0.2\n",
      "K=73   30.874025468785447   0.3225028238127894    0.3756382060618232    0.2\n",
      "K=74   29.874139656688175   0.33200343778102737    0.38588618625916327    0.2\n",
      "K=75   28.860462756156053   0.34164195726651003    0.3962720800244038    0.2\n",
      "K=76   27.83299640940603   0.3514183461908185    0.40679588076349993    0.2\n",
      "K=77   26.791739329989554   0.36133263284550377    0.4174575936274045    0.2\n",
      "K=78   25.736681098458348   0.3713850472853907    0.4282572598804291    0.2\n",
      "K=79   24.667837656440756   0.3815752374445689    0.4391948164311039    0.2\n",
      "K=80   23.585202688114055   0.3919033428260902    0.4502702882652438    0.2\n",
      "K=81   22.482984725860078   0.39999785403768734    0.4627563020932549    0.2\n",
      "K=82   21.34285886277592   0.40000000992542517    0.47985711209564835    0.2\n",
      "K=83   20.182034335151428   0.39999845252074717    0.49727025871235475    0.2\n",
      "K=84   19.00053092913827   0.3999992365965379    0.5149924177646568    0.2\n",
      "K=85   17.798341825320318   0.4000000099069163    0.5330248676667368    0.2\n",
      "K=86   16.575460769422673   0.4000000099997815    0.551368083458769    0.2\n",
      "K=87   15.331893009513465   0.40000000999963237    0.5700215998574817    0.2\n",
      "K=88   14.067637961697997   0.4000000099999782    0.5889854255745408    0.2\n",
      "K=89   12.782695621157789   0.4000000099999644    0.6082595606826509    0.2\n",
      "K=90   11.477065991800435   0.40000000999958396    0.6278440051232014    0.2\n",
      "K=91   10.150749072042137   0.40000000999832075    0.6477387589202075    0.2\n",
      "K=92   8.803744865168714   0.4000000099799282    0.6679438220325051    0.2\n",
      "K=93   7.436053349879579   0.4000000099946893    0.6884591947544616    0.2\n",
      "K=94   6.047674535471869   0.40000000999841717    0.7092848769687133    0.2\n",
      "K=95   4.638608438033669   0.40000000999967406    0.7304208684296579    0.2\n",
      "K=96   3.2088550506083786   0.40000000999929447    0.7518671692412271    0.2\n",
      "K=97   1.7584144550291432   0.40000000881356756    0.7736237787677791    0.2\n",
      "K=98   0.2872863146334871   0.40000000294143234    0.7956907038097816    0.2\n"
     ]
    }
   ],
   "source": [
    "function run_static_model(V, K)\n",
    "    \n",
    "    UF = [] # List of final values of the principal utility\n",
    "    AcOpt = [] # List of optimal actions for K\n",
    "    WHOpt = [] # List of hight optimal compensation for K\n",
    "    WLOpt = [] # List of low optimal compensation for K\n",
    "    KFact = [] #list of feasible indexes \n",
    "    \n",
    "    for k in K # For each k from 19 to 90 it is optimized.\n",
    "\n",
    "        uval = 0 # Initial optimal utility of Principal for k.\n",
    "        wl = 0 # Initial compensation if yl occurs.\n",
    "        wh = 0 # Initial compensation if yh occurs.\n",
    "        accopt = 0 # Initial optimal action.\n",
    "\n",
    "        uh, xh, xl, stat_high = Model_High_Effort(k, h)\n",
    "\n",
    "        # If the solution found is optimal and feasible, then:\n",
    "        # The optimal value is saved; as well as the compensations scheme and the value ah for k.\n",
    "        if (uh > uval) & (stat_high == MOI.LOCALLY_SOLVED) \n",
    "            uval = uh\n",
    "            wh = xh\n",
    "            wl = xl\n",
    "            accopt = A[2]\n",
    "        end\n",
    "\n",
    "        ul, xh, xl, stat_low = Model_Low_Effort(k, h) \n",
    "\n",
    "        # If the solution found is optimal, for now u=uh, and feasible, then:\n",
    "        # The optimal value is saved; as well as the compensations scheme and the value ah for k.\n",
    "        if (ul > uval) & (stat_low == MOI.LOCALLY_SOLVED) \n",
    "            uval = ul\n",
    "            wh = xh\n",
    "            wl = xl\n",
    "            accopt = A[1]\n",
    "        end\n",
    "        \n",
    "        if uval != 0\n",
    "            append!(KFact, k) # Save  k.\n",
    "            append!(UF, uval) # Save the Value Function for k.\n",
    "            append!(WLOpt, wl) # Save the optimal low compensation for k.\n",
    "            append!(WHOpt, wh) # Save the optimal hight compensation for k.\n",
    "            append!(AcOpt, accopt) # Save the optimal effort for k.\n",
    "            \n",
    "            # Results are printed for k\n",
    "            println(\"K=\",k,\"   \",uval, \"   \", wl ,\"    \",wh,\"    \", accopt)\n",
    "        end\n",
    "\n",
    "    end\n",
    "\n",
    "    # The DataFrame is created\n",
    "    DataEst = DataFrame(\n",
    "        K = KFact, \n",
    "        Agent_Utility = V[KFact],\n",
    "        Principal_Utility = UF,\n",
    "        High_Compensation = WHOpt,\n",
    "        Low_Compensation = WLOpt,\n",
    "        Effort = AcOpt)\n",
    "    return DataEst\n",
    "end"
   ]
  },
  {
   "cell_type": "markdown",
   "metadata": {},
   "source": [
    "#### Ploting "
   ]
  },
  {
   "cell_type": "markdown",
   "metadata": {},
   "source": [
    "#### Pareto Front Plot"
   ]
  },
  {
   "cell_type": "code",
   "execution_count": null,
   "metadata": {
    "collapsed": false
   },
   "outputs": [],
   "source": [
    "using DataFrames\n",
    "using XLSX\n",
    "\n",
    "SM = DataFrame(XLSX.readtable(\"Static_Model_JuMP.xlsx\", \"Sheet1\")...)\n",
    "UF = SM[:,\"Principal_Utility\"]\n",
    "\n",
    "SM10 = DataFrame(XLSX.readtable(\"Static_Model_JuMP_h10.xlsx\", \"Sheet1\")...)\n",
    "UF10 = SM10[:,\"Principal_Utility\"]\n",
    "\n",
    "SM25 = DataFrame(XLSX.readtable(\"Static_Model_JuMP_h25.xlsx\", \"Sheet1\")...)\n",
    "UF25 = SM25[:,\"Principal_Utility\"]\n",
    "\n",
    "SM50 = DataFrame(XLSX.readtable(\"Static_Model_JuMP_h50.xlsx\", \"Sheet1\")...)\n",
    "UF50 = SM50[:,\"Principal_Utility\"]\n",
    "\n",
    "SM75 = DataFrame(XLSX.readtable(\"Static_Model_JuMP_h75.xlsx\", \"Sheet1\")...)\n",
    "UF75 = SM75[:,\"Principal_Utility\"]\n",
    "\n",
    "K = 19:90    # Feasible indices (In the article it is set V) for wang\n",
    "K10 = 9:98   # Feasible indices (In the article it is set V) for h=10\n",
    "K25 = 8:98   # Feasible indices (In the article it is set V) for h=25\n",
    "K50 = 5:99   # Feasible indices (In the article it is set V) for h=50\n",
    "K75 = 7:99   # Feasible indices (In the article it is set V) for h=75"
   ]
  },
  {
   "cell_type": "code",
   "execution_count": null,
   "metadata": {
    "collapsed": false
   },
   "outputs": [],
   "source": [
    "using Plots, Plots.PlotMeasures    # Plots packages load\n",
    "theme(:ggplot2)     # Graphics theme\n",
    "\n",
    "pl1=plot(\n",
    "    K,\n",
    "    [UF],\n",
    "    lw = 3,\n",
    "    labels = \"Wang\",\n",
    "    color = [:red ],\n",
    "    title = \"Pareto Frontier\", \n",
    "    legend = true,\n",
    "    xlabel = \"Agent reservation utility, level k\",\n",
    "    ylabel =  \"Principal's optimal expected utility\") \n",
    "plot!(size = (800,600),\n",
    "    xtickfont = font(8), \n",
    "    ytickfont = font(8), \n",
    "    guidefont = font(10), \n",
    "    titlefont = font(15),\n",
    "    margin = 10mm) \n",
    "display(pl1)\n",
    "savefig(\"Pareto_front_Static_Model_JuMP\")"
   ]
  },
  {
   "cell_type": "code",
   "execution_count": null,
   "metadata": {
    "collapsed": false
   },
   "outputs": [],
   "source": [
    "using Plots, Plots.PlotMeasures    # Plots packages load\n",
    "theme(:ggplot2)     # Graphics theme\n",
    "\n",
    "pl1=plot(\n",
    "    [K,K50],\n",
    "    [UF, UF50],\n",
    "    lw = 3,\n",
    "    labels = [\"Wang\" \"h=0.50\"],\n",
    "    color = [:red :green ],\n",
    "    title = \"Pareto Frontier\", \n",
    "    legend = true,\n",
    "    xlabel = \"Agent reservation utility, level k\",\n",
    "    ylabel =  \"Principal's optimal expected utility\") \n",
    "plot!(size = (800,600),\n",
    "    xtickfont = font(8), \n",
    "    ytickfont = font(8), \n",
    "    guidefont = font(10), \n",
    "    titlefont = font(15),\n",
    "    margin = 10mm) \n",
    "display(pl1)\n",
    "savefig(\"Pareto_front_Static_Model_JuMP_h50\")"
   ]
  },
  {
   "cell_type": "code",
   "execution_count": null,
   "metadata": {
    "collapsed": false
   },
   "outputs": [],
   "source": [
    "using Plots, Plots.PlotMeasures    # Plots packages load\n",
    "theme(:ggplot2)     # Graphics theme\n",
    "\n",
    "pl1=plot(\n",
    "    [K10, K25, K50, K75],\n",
    "    [UF10, UF25, UF50, UF75],\n",
    "    lw = 3,\n",
    "    labels = [\"h=0.10\" \"h=0.25\" \"h=0.50\" \"h=0.75\"],\n",
    "    color = [:blue :orange :green :purple],\n",
    "    title = \"Pareto Frontier\", \n",
    "    legend = true,\n",
    "    xlabel = \"Agent reservation utility, level k\",\n",
    "    ylabel =  \"Principal's optimal expected utility\") \n",
    "plot!(size = (800,600),\n",
    "    xtickfont = font(8), \n",
    "    ytickfont = font(8), \n",
    "    guidefont = font(10), \n",
    "    titlefont = font(15),\n",
    "    margin = 10mm) \n",
    "display(pl1)\n",
    "savefig(\"Pareto_front_Static_Model_JuMP_hs\")"
   ]
  },
  {
   "cell_type": "code",
   "execution_count": null,
   "metadata": {
    "collapsed": false
   },
   "outputs": [],
   "source": [
    "using Plots, Plots.PlotMeasures    # Plots packages load\n",
    "theme(:ggplot2)     # Graphics theme\n",
    "\n",
    "pl1=plot(\n",
    "    [K, K10, K25, K50, K75],\n",
    "    [UF, UF10, UF25, UF50, UF75],\n",
    "    lw = 3,\n",
    "    labels = [\"Wang\" \"h=0.10\" \"h=0.25\" \"h=0.50\" \"h=0.75\"],\n",
    "    color = [:red :blue :orange :green :purple],\n",
    "    title = \"Pareto Frontier\", \n",
    "    legend = true,\n",
    "    xlabel = \"Agent reservation utility, level k\",\n",
    "    ylabel =  \"Principal's optimal expected utility\") \n",
    "plot!(size = (800,600),\n",
    "    xtickfont = font(8), \n",
    "    ytickfont = font(8), \n",
    "    guidefont = font(10), \n",
    "    titlefont = font(15),\n",
    "    margin = 10mm) \n",
    "display(pl1)\n",
    "savefig(\"Pareto_front_Static_Model_JuMP_all\")"
   ]
  },
  {
   "cell_type": "markdown",
   "metadata": {},
   "source": [
    "#### Compensation Scheme Plot"
   ]
  },
  {
   "cell_type": "code",
   "execution_count": null,
   "metadata": {
    "collapsed": false
   },
   "outputs": [],
   "source": [
    "WLM =  SM[:,\"Low_Compensation\"]\n",
    "WLM10 = SM10[:,\"Low_Compensation\"]\n",
    "WLM25 = SM25[:,\"Low_Compensation\"]\n",
    "WLM50 = SM50[:,\"Low_Compensation\"]\n",
    "WLM75 = SM75[:,\"Low_Compensation\"]\n",
    "WHM =  SM[:,\"High_Compensation\"]\n",
    "WHM10 = SM10[:,\"High_Compensation\"]\n",
    "WHM25 = SM25[:,\"High_Compensation\"]\n",
    "WHM50 = SM50[:,\"High_Compensation\"]\n",
    "WHM75 = SM75[:,\"High_Compensation\"]\n",
    "\n",
    "K"
   ]
  },
  {
   "cell_type": "code",
   "execution_count": null,
   "metadata": {
    "collapsed": false
   },
   "outputs": [],
   "source": [
    "using Plots, Plots.PlotMeasures    # Plots packages load\n",
    "theme(:ggplot2)     # Graphics theme\n",
    "\n",
    "pl2=scatter(\n",
    "    [K],\n",
    "    [WLM,WHM ], \n",
    "    markersize = 3,\n",
    "    labels = [\"wl Wang\" \"wh Wang\"],\n",
    "    #marker = [\"\"]\n",
    "    color = [:red :red ],\n",
    "    shape = [:hline :+ :utri ],\n",
    "    title = \"Compensation Scheme\",     \n",
    "    legend = true,\n",
    "    label = [\"Wl\" \"Wh\"],\n",
    "    xlabel = \"Agent reservation utility, level k\",\n",
    "    ylabel = \"Compensation\") #Se grafica K vs. Esquema de compensacion\n",
    "plot!(size = (800,600),\n",
    "    xtickfont = font(8), \n",
    "    ytickfont = font(8), \n",
    "    guidefont = font(10), \n",
    "    legendfont = font(8), \n",
    "    titlefont = font(15),\n",
    "    #legend=:bottomright,\n",
    "    legend = :topleft,\n",
    "    margin = 10mm) #tamaño de letras\n",
    "display(pl2)\n",
    "savefig(\"Compensation_Scheme_Static_Model_JuMP\")"
   ]
  },
  {
   "cell_type": "code",
   "execution_count": null,
   "metadata": {
    "collapsed": false
   },
   "outputs": [],
   "source": [
    "using Plots, Plots.PlotMeasures    # Plots packages load\n",
    "theme(:ggplot2)     # Graphics theme\n",
    "\n",
    "pl2=scatter(\n",
    "    [K, K, K50, K50],\n",
    "    [WLM, WHM, WLM50, WHM50], \n",
    "    markersize = 4,\n",
    "    labels = [\"wl Wang\" \"wh Wang\" \"wl h=0.50\" \"wh h=0.50\"],\n",
    "    color = [:red :red :green :green],\n",
    "    shape = [:hline :+  :hline :+ :utri ],\n",
    "    title = \"Compensation Scheme\",     \n",
    "    legend = true,\n",
    "    label = [\"Wl\" \"Wh\"],\n",
    "    xlabel = \"Agent reservation utility, level k\",\n",
    "    ylabel = \"Compensation\") #Se grafica K vs. Esquema de compensacion\n",
    "plot!(size = (800,600),\n",
    "    xtickfont = font(8), \n",
    "    ytickfont = font(8), \n",
    "    guidefont = font(10), \n",
    "    legendfont = font(8), \n",
    "    titlefont = font(15),\n",
    "    #legend=:bottomright,\n",
    "    legend = :topleft,\n",
    "    margin = 10mm) #tamaño de letras\n",
    "display(pl2)\n",
    "savefig(\"Compensation_Scheme_Static_Model_JuMP_h50\")"
   ]
  },
  {
   "cell_type": "code",
   "execution_count": null,
   "metadata": {
    "collapsed": false
   },
   "outputs": [],
   "source": [
    "using Plots, Plots.PlotMeasures    # Plots packages load\n",
    "theme(:ggplot2)     # Graphics theme\n",
    "\n",
    "pl2=scatter(\n",
    "    [K10, K10, K25, K25, K50, K50, K75, K75], \n",
    "    [WLM10, WHM10, WLM25, WHM25, WLM50, WHM50, WLM75, WHM75], \n",
    "    markersize = 4,\n",
    "    labels = [\"wl h=0.10\" \"wh h=0.10\" \"wl h=0.25\" \"wh h=0.25\" \"wl h=0.50\" \"wh h=0.50\" \"wl h=0.75\" \"wh h=0.75\"],\n",
    "    color = [:blue :blue :orange :orange :green :green :purple :purple],\n",
    "    shape = [:hline :+ :hline :+ :hline :+ :hline :+ :utri ],\n",
    "    title = \"Compensation Scheme\",     \n",
    "    legend = true,\n",
    "    label = [\"Wl\" \"Wh\"],\n",
    "    xlabel = \"Agent reservation utility, level k\",\n",
    "    ylabel = \"Compensation\") #Se grafica K vs. Esquema de compensacion\n",
    "plot!(size = (800,600),\n",
    "    xtickfont = font(8), \n",
    "    ytickfont = font(8), \n",
    "    guidefont = font(10), \n",
    "    legendfont = font(8), \n",
    "    titlefont = font(15),\n",
    "    #legend=:bottomright,\n",
    "    legend = :topleft,\n",
    "    margin = 10mm) #tamaño de letras\n",
    "display(pl2)\n",
    "savefig(\"Compensation_Scheme_Static_Model_JuMP_hs\")"
   ]
  },
  {
   "cell_type": "code",
   "execution_count": null,
   "metadata": {
    "collapsed": false
   },
   "outputs": [],
   "source": [
    "using Plots, Plots.PlotMeasures    # Plots packages load\n",
    "theme(:ggplot2)     # Graphics theme\n",
    "\n",
    "gra=cgrad([:orange, :blue], [0.1,0.3,0.8])\n",
    "\n",
    "pl2=scatter(\n",
    "    [K, K, K10, K10, K25, K25, K50, K50, K75, K75],\n",
    "    [WLM,WHM, WLM10,WHM10, WLM25,WHM25, WLM50,WHM50, WLM75,WHM75], \n",
    "    markersize = 3,\n",
    "    labels = [\"wl Wang\" \"wh Wang\" \"wl h=0.10\" \"wh h=0.10\" \"wl h=0.25\" \"wh h=0.25\" \"wl h=0.50\" \"wh h=0.50\" \"wl h=0.75\" \"wh h=0.75\"],\n",
    "    color = [:red :red  :blue :blue :orange :orange :green :green :purple :purple],\n",
    "    shape = [:hline :+ :hline :+ :hline :+ :hline :+  :hline :+  :utri ],\n",
    "    title = \"Compensation Scheme\",     \n",
    "    legend = true,\n",
    "    label = [\"Wl\" \"Wh\"],\n",
    "    xlabel = \"Agent reservation utility, level k\",\n",
    "    ylabel = \"Compensation\",\n",
    "    #palette =palette([:red , :green],10))\n",
    "    #c=gra) #Se grafica K vs. Esquema de compensacion\n",
    "    )\n",
    "plot!(size = (800,600),\n",
    "    xtickfont = font(8), \n",
    "    ytickfont = font(8), \n",
    "    guidefont = font(10), \n",
    "    legendfont = font(8), \n",
    "    titlefont = font(15),\n",
    "    #legend=:bottomright,\n",
    "    legend = :topleft,\n",
    "    margin = 10mm) #tamaño de letras\n",
    "display(pl2)\n",
    "savefig(\"Compensation_Scheme_Static_Model_JuMP_all\")"
   ]
  },
  {
   "cell_type": "markdown",
   "metadata": {},
   "source": [
    "#### Optimal Effort Plot"
   ]
  },
  {
   "cell_type": "code",
   "execution_count": null,
   "metadata": {
    "collapsed": false
   },
   "outputs": [],
   "source": [
    "OP = SM[:,\"Effort\"]\n",
    "OP10 = SM10[:,\"Effort\"]\n",
    "OP25 = SM25[:,\"Effort\"]\n",
    "OP50 = SM50[:,\"Effort\"]\n",
    "OP75 = SM75[:,\"Effort\"]\n",
    "\n",
    "K"
   ]
  },
  {
   "cell_type": "code",
   "execution_count": null,
   "metadata": {
    "collapsed": false
   },
   "outputs": [],
   "source": [
    "using Plots, Plots.PlotMeasures    # Plots packages load\n",
    "theme(:ggplot2)     # Graphics theme\n",
    "\n",
    "pl3=scatter(\n",
    "    [K],\n",
    "    [OP],\n",
    "    markersize = 3,\n",
    "    labels = [\"Wang\"],\n",
    "    color = [:red :red ],\n",
    "    title =\"Optimal Effort\", \n",
    "    label = false,\n",
    "    xlabel = \"Agent reservation utility, level k\",\n",
    "    ylabel = \"Effort\") #Se grafica K vs. accion sugerida\n",
    "plot!(size = (800,600),\n",
    "    xtickfont = font(8), \n",
    "    ytickfont = font(8), \n",
    "    guidefont = font(10), \n",
    "    titlefont = font(15),\n",
    "    legend = :topleft,\n",
    "    margin = 10mm) #tamaño de letras\n",
    "display(pl3)\n",
    "savefig(\"Optimal_Effort_Static_Model_JuMP\")"
   ]
  },
  {
   "cell_type": "code",
   "execution_count": null,
   "metadata": {
    "collapsed": false
   },
   "outputs": [],
   "source": [
    "using Plots, Plots.PlotMeasures    # Plots packages load\n",
    "theme(:ggplot2)     # Graphics theme\n",
    "\n",
    "pl3=scatter(\n",
    "    [K, K50],\n",
    "    [OP, OP50],\n",
    "    markersize = 3,\n",
    "    labels = [\"Wang\" \"h=0.50\"],\n",
    "    color = [:red :green],\n",
    "    title =\"Optimal Effort\", \n",
    "    label = false,\n",
    "    xlabel = \"Agent reservation utility, level k\",\n",
    "    ylabel = \"Effort\") #Se grafica K vs. accion sugerida\n",
    "plot!(size = (800,600),\n",
    "    xtickfont = font(8), \n",
    "    ytickfont = font(8), \n",
    "    guidefont = font(10), \n",
    "    titlefont = font(15),\n",
    "    legend = :topleft,\n",
    "    margin = 10mm) #tamaño de letras\n",
    "display(pl3)\n",
    "savefig(\"Optimal_Effort_Static_Model_JuMP_h50\")"
   ]
  },
  {
   "cell_type": "code",
   "execution_count": null,
   "metadata": {
    "collapsed": false
   },
   "outputs": [],
   "source": [
    "using Plots, Plots.PlotMeasures    # Plots packages load\n",
    "theme(:ggplot2)     # Graphics theme\n",
    "\n",
    "pl3=scatter(\n",
    "    [K10, K25, K50, K75],\n",
    "    [OP10, OP25, OP50, OP75],\n",
    "    markersize = 3,\n",
    "    labels = [\"h=0.10\" \"h=0.25\" \"h=0.50\" \"h=0.75\"],\n",
    "    color = [:blue :orange :green  :purple],\n",
    "    title =\"Optimal Effort\", \n",
    "    label = false,\n",
    "    xlabel = \"Agent reservation utility, level k\",\n",
    "    ylabel = \"Effort\") #Se grafica K vs. accion sugerida\n",
    "plot!(size = (800,600),\n",
    "    xtickfont = font(8), \n",
    "    ytickfont = font(8), \n",
    "    guidefont = font(10), \n",
    "    titlefont = font(15),\n",
    "    legend = :topleft,\n",
    "    margin = 10mm) #tamaño de letras\n",
    "display(pl3)\n",
    "savefig(\"Optimal_Effort_Static_Model_JuMP_hs\")"
   ]
  },
  {
   "cell_type": "code",
   "execution_count": null,
   "metadata": {
    "collapsed": false
   },
   "outputs": [],
   "source": [
    "using Plots, Plots.PlotMeasures    # Plots packages load\n",
    "theme(:ggplot2)     # Graphics theme\n",
    "\n",
    "pl3=scatter(\n",
    "    [K, K10, K25, K50, K75],\n",
    "    [OP, OP10, OP25, OP50, OP75],\n",
    "    markersize = 3,\n",
    "    labels = [\"Wang\" \"h=0.10\" \"h=0.25\" \"h=0.50\" \"h=0.75\"],\n",
    "    color = [:red  :blue :orange :green :purple ],\n",
    "    title =\"Optimal Effort\", \n",
    "    label = false,\n",
    "    xlabel = \"Agent reservation utility, level k\",\n",
    "    ylabel = \"Effort\") #Se grafica K vs. accion sugerida\n",
    "plot!(size = (800,600),\n",
    "    xtickfont = font(8), \n",
    "    ytickfont = font(8), \n",
    "    guidefont = font(10), \n",
    "    titlefont = font(15),\n",
    "    legend = :topleft,\n",
    "    margin = 10mm) #tamaño de letras\n",
    "display(pl3)\n",
    "savefig(\"Optimal_Effort_Static_Model_JuMP_all\")"
   ]
  },
  {
   "cell_type": "code",
   "execution_count": null,
   "metadata": {
    "collapsed": true
   },
   "outputs": [],
   "source": []
  }
 ],
 "metadata": {
  "anaconda-cloud": {},
  "kernelspec": {
   "display_name": "Julia 1.5.3",
   "language": "julia",
   "name": "julia-1.5"
  },
  "language_info": {
   "file_extension": ".jl",
   "mimetype": "application/julia",
   "name": "julia",
   "version": "1.5.3"
  }
 },
 "nbformat": 4,
 "nbformat_minor": 4
}
